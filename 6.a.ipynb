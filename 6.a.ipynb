<!DOCTYPE html>
<html>
<head>
   <title>Penggunaan Tag Tabel</title>
</head>
<body>
<h1>Tabel Product:</h1>
<table border="1">
    <tr>
        <td>id, Name, price, id-category, id-cashier</td>
        <td>1, Latte, 10000, 2, 1</td>
        <td>2, Cake, 20000, 1, 2</td>
        <td>2, Coffee, 45000, 1, 3</td>
<h1>Tabel Category:</h1>
<table border="2">
    </tr>
    <tr>
        <td>id, name</td>
        <td>1, Food</td>
        <td> 2, Drink</td>
<h1>Tabel Cashier:</h1>
<table border="3">
    </tr>
    <tr>
        <td> id, name</td>
        <td> 1, Pevita Pearce</td>
        <td> 2, Raisa Andriana</td>
        <td> 3, Virginia Anisa Putri</td>
<h1>Query:</h1>
<table border="4">
    </tr>
    <tr>
        <td> Cashier, Product, Category, Price</td>
        <td> 1, Pevita Pearce, Latte, Drink, 10000</td>
        <td> 2, Raisa Andriana, Cake, Food, 20000</td>
        <td> 3, Virginia Anisa Putri, Coffee, Drink, 45000</td>
    </tr>
</table>
</body>
</html>
